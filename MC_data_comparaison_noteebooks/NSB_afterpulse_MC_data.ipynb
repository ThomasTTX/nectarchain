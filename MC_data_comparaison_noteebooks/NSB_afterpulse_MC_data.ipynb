{
 "cells": [
  {
   "cell_type": "code",
   "execution_count": 1,
   "metadata": {},
   "outputs": [
    {
     "name": "stderr",
     "output_type": "stream",
     "text": [
      "/local/home/ttaverni/anaconda3/envs/nectarchain-dev/lib/python3.7/site-packages/corsikaio/subblocks/dtypes.py:20: FutureWarning: Passing (type, 1) or '1type' as a synonym of type is deprecated; in a future version of numpy, it will be understood as (type, (1,)) / '(1,)type'.\n",
      "  return np.dtype(dict(**dt))\n"
     ]
    }
   ],
   "source": [
    "\n",
    "from matplotlib import pyplot as plt\n",
    "import os\n",
    "import numpy as np\n",
    "import glob\n",
    "import os\n",
    "\n",
    "## astropy\n",
    "import astropy.units as u\n",
    "from astropy.table import Table\n",
    "\n",
    "## ctapipe\n",
    "from ctapipe_io_nectarcam import NectarCAMEventSource \n",
    "from ctapipe.io import event_source, EventSeeker\n",
    "\n",
    "import scipy.stats as scsp\n",
    "from scipy.stats import poisson                                                                                                             \n",
    "\n",
    "\n",
    "#import seaborn as sns\n",
    "\n",
    "chan=0\n",
    "\n",
    "plt.rcParams['figure.figsize'] = [15, 7]"
   ]
  },
  {
   "cell_type": "code",
   "execution_count": 2,
   "metadata": {},
   "outputs": [],
   "source": [
    "        #MC_file_path ='/media/ttaverni/Transcend/MC_s/Heide/nsb0_thrs0_new_notes.simtel.gz'\n",
    "        #MC_file_path = '/media/ttaverni/Transcend/MC_s/Heide/nsb125_thrs0_new_notes.simtel.gz'\n",
    "        #MC_file_path = '/media/ttaverni/Transcend/MC_s/Heide/nsb250_thrs0_new_notes.simtel.gz'\n",
    "        #MC_file_path = '/media/ttaverni/Transcend/MC_s/Heide/nsb500_thrs0_new_notes.simtel.gz'\n",
    "        MC_file_path = '/media/ttaverni/Transcend/MC_s/Heide/nsb500_thrs0_new_notes_large-stat.simtel.gz'\n",
    "        \n",
    "        inputfile_reader = event_source(\n",
    "            input_url = MC_file_path,\n",
    "            max_events=7000)\n",
    "\n",
    "        all_wfs = []\n",
    "        for ii, event in enumerate(inputfile_reader):\n",
    "            all_wfs.append(event.r0.tel[1].waveform[chan][:400])\n",
    "        wfs_MC = np.array(all_wfs)"
   ]
  },
  {
   "cell_type": "code",
   "execution_count": 3,
   "metadata": {},
   "outputs": [],
   "source": [
    "        ## NSB = 0 : \n",
    "        #data_file_path = '/media/ttaverni/Transcend/data/dataR1/NectarCAM.Run1533.000[0-9].fits.fz'\n",
    "        ## NSB ~= 125 MHz (?) : \n",
    "        #data_file_path = '/media/ttaverni/Transcend/data/dataR1/NectarCAM.Run1538.000[0-9].fits.fz'\n",
    "        ## NSB <~= 250 MHz (?) : \n",
    "        #data_file_path = '/media/ttaverni/Transcend/data/dataR1/NectarCAM.Run1539.000[0-9].fits.fz'\n",
    "        ## NSB <= 500 MHz (?) : \n",
    "        data_file_path = '/media/ttaverni/Transcend/data/dataR1/NectarCAM.Run1542.000[0-9].fits.fz'\n",
    "        \n",
    "        \n",
    "        inputfile_reader = NectarCAMEventSource(\n",
    "            input_url = data_file_path,\n",
    "            max_events=10000)\n",
    "\n",
    "        cfg = inputfile_reader.camera_config\n",
    "        pix_ids = cfg.expected_pixels_id[:400]\n",
    "        \n",
    "        all_wfs = []\n",
    "        for ii, event in enumerate(inputfile_reader):\n",
    "            all_wfs.append(event.r0.tel[event.r0.tels_with_data[0]].waveform[chan,pix_ids])\n",
    "            if ii > len(wfs_MC)-3 : \n",
    "                break\n",
    "        wfs_data = np.array(all_wfs)"
   ]
  },
  {
   "cell_type": "code",
   "execution_count": 4,
   "metadata": {},
   "outputs": [],
   "source": [
    "        all_wfs_data = wfs_data\n",
    "        rn_wfs_data  = all_wfs_data[:,:,:]- all_wfs_data[:,:,:].mean(axis=0)\n",
    "        rn_wfs_MC    = wfs_MC[:,:,:60]    -     wfs_MC[:,:,:60].mean(axis=0)"
   ]
  },
  {
   "cell_type": "code",
   "execution_count": 5,
   "metadata": {},
   "outputs": [
    {
     "data": {
      "image/png": "[encoded data removed]",
      "text/plain": [
       "<Figure size 432x288 with 1 Axes>"
      ]
     },
     "metadata": {
      "needs_background": "light"
     },
     "output_type": "display_data"
    }
   ],
   "source": [
    "        n,b,p = plt.hist((rn_wfs_data.max(axis=2)/14).flatten(),bins=np.arange(0,40,0.25), \\\n",
    "                 color='black', alpha=.4,density=1, label = 'data') \n",
    "        n,b,p = plt.hist((rn_wfs_MC.max(axis=2)/14).flatten(),bins=np.arange(0,40,0.25), \\\n",
    "                 color='red'  , alpha=.4,density=1, label = 'MC')\n",
    "        \n",
    "        #n,b,p = plt.hist((rn_wfs_MC.max(axis=2)/11).flatten(),bins=np.arange(0,40,0.25), \\\n",
    "        #         color='green'  , alpha=.4,density=1, label = 'MC (amplitude=10)')\n",
    "        \n",
    "        plt.gca().set_yscale('log')\n",
    "        plt.gca().set_xlabel('Charge (p.e.)')\n",
    "        plt.gca().set_title('NSB+afterpulse specrum')\n",
    "        from astropy.io import ascii\n",
    "        fff ='./spe_afterpulse_pdf_NectarCam_14032019.dat'\n",
    "        aaa = ascii.read(fff)\n",
    "        plt.plot(aaa['col1'],aaa['col3']*60*.5,label='SPE+afterpulse specrum')\n",
    "        l=plt.gca().legend()"
   ]
  },
  {
   "cell_type": "code",
   "execution_count": 7,
   "metadata": {},
   "outputs": [],
   "source": [
    "aftp_Q_data =[]\n",
    "aftp_Q_MC =[]\n",
    "\n",
    "for rn_wfs in rn_wfs_data:\n",
    "    for rn_wf in rn_wfs:\n",
    "        aftp_Q_data.append( np.max( [rn_wf[ii:ii+10].sum()/58. for ii in range(50) ] ) )\n",
    "\n",
    "        \n",
    "for rn_wfs in rn_wfs_MC:\n",
    "    for rn_wf in rn_wfs:\n",
    "        aftp_Q_MC.append( np.max( [rn_wf[ii:ii+10].sum()/58. for ii in range(50) ] ) )\n",
    "aftp_Q_MC = np.array(aftp_Q_MC)"
   ]
  },
  {
   "cell_type": "code",
   "execution_count": 8,
   "metadata": {},
   "outputs": [],
   "source": [
    "aftp_Q_data = np.array(aftp_Q_data)\n",
    "aftp_Q_MC = np.array(aftp_Q_MC)"
   ]
  },
  {
   "cell_type": "code",
   "execution_count": 9,
   "metadata": {},
   "outputs": [
    {
     "data": {
      "image/png": "[encoded data removed]",
      "text/plain": [
       "<Figure size 432x288 with 1 Axes>"
      ]
     },
     "metadata": {
      "needs_background": "light"
     },
     "output_type": "display_data"
    }
   ],
   "source": [
    "\n",
    "n,b,p = plt.hist(aftp_Q_data, bins=np.arange(0,40,0.25), \\\n",
    "                 color='black', alpha=.4,density=1, label = 'data') \n",
    "n,b,p = plt.hist(aftp_Q_MC, bins=np.arange(0,40,0.25), \\\n",
    "                 color='red'  , alpha=.4,density=1, label = 'MC')\n",
    "        \n",
    "#n,b,p = plt.hist((rn_wfs_MC.max(axis=2)/11).flatten(),bins=np.arange(0,40,0.25), \\\n",
    "#         color='green'  , alpha=.4,density=1, label = 'MC (amplitude=10)')\n",
    "        \n",
    "plt.gca().set_yscale('log')\n",
    "plt.gca().set_xlabel('Charge (p.e.)')\n",
    "plt.gca().set_title('NSB+afterpulse specrum')\n",
    "from astropy.io import ascii\n",
    "fff ='./spe_afterpulse_pdf_NectarCam_14032019.dat'\n",
    "aaa = ascii.read(fff)\n",
    "plt.plot(aaa['col1'],aaa['col3']*60*.5,label='SPE+afterpulse specrum')\n",
    "l=plt.gca().legend()"
   ]
  },
  {
   "cell_type": "code",
   "execution_count": null,
   "metadata": {},
   "outputs": [],
   "source": []
  },
  {
   "cell_type": "code",
   "execution_count": null,
   "metadata": {},
   "outputs": [],
   "source": []
  },
  {
   "cell_type": "code",
   "execution_count": null,
   "metadata": {},
   "outputs": [],
   "source": []
  }
 ],
 "metadata": {
  "kernelspec": {
   "display_name": "Python 3",
   "language": "python",
   "name": "python3"
  },
  "language_info": {
   "codemirror_mode": {
    "name": "ipython",
    "version": 3
   },
   "file_extension": ".py",
   "mimetype": "text/x-python",
   "name": "python",
   "nbconvert_exporter": "python",
   "pygments_lexer": "ipython3",
   "version": "3.7.3"
  }
 },
 "nbformat": 4,
 "nbformat_minor": 2
}
